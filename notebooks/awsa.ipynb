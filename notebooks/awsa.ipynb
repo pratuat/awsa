{
 "cells": [
  {
   "cell_type": "code",
   "execution_count": 1,
   "metadata": {},
   "outputs": [
    {
     "name": "stdout",
     "output_type": "stream",
     "text": [
      "title='Chocolate - Wikipedia' link='https://en.wikipedia.org/wiki/Chocolate' text='Chocolate liquor, cocoa butter, cocoa solids, solid chocolate. Cookbook: Chocolate. Media: Chocolate. Chocolate , or cocoa, is a food made from roasted and ground cacao seed kernels that is available as a liquid, solid, or paste, either on its own or as a flavoring agent in other foods. '\n"
     ]
    }
   ],
   "source": [
    "from yahoo_search import search\n",
    "\n",
    "result = search(\"chocolate\")\n",
    "print(result.pages[0])"
   ]
  },
  {
   "cell_type": "code",
   "execution_count": 5,
   "metadata": {},
   "outputs": [
    {
     "data": {
      "text/plain": [
       "'https://en.wikipedia.org/wiki/Chocolate'"
      ]
     },
     "execution_count": 5,
     "metadata": {},
     "output_type": "execute_result"
    }
   ],
   "source": [
    "result.pages[0].link"
   ]
  },
  {
   "cell_type": "code",
   "execution_count": 3,
   "metadata": {},
   "outputs": [
    {
     "name": "stdout",
     "output_type": "stream",
     "text": [
      "Help on function search in module yahoo_search.core:\n",
      "\n",
      "search(query: str) -> yahoo_search.core.SearchResult\n",
      "    Searches Yahoo using a text query.\n",
      "    \n",
      "    Args:\n",
      "        query (str): The query.\n",
      "    \n",
      "    Example:\n",
      "        .. code-block :: python\n",
      "    \n",
      "            s = search(\"chocolate\")\n",
      "            print(s.pages[0].title)\n",
      "            # Chocolate - Wikipedia\n",
      "            print(s.related_searches[0])\n",
      "            # RelatedSearch(\n",
      "            #   link='https://sg.search.yahoo.com/(...)'\n",
      "            #   text='awfully chocolate'\n",
      "            # )\n",
      "    \n",
      "    Returns:\n",
      "        SearchResult: The search result.\n",
      "\n"
     ]
    }
   ],
   "source": [
    "help(search)"
   ]
  }
 ],
 "metadata": {
  "kernelspec": {
   "display_name": ".venv",
   "language": "python",
   "name": "python3"
  },
  "language_info": {
   "codemirror_mode": {
    "name": "ipython",
    "version": 3
   },
   "file_extension": ".py",
   "mimetype": "text/x-python",
   "name": "python",
   "nbconvert_exporter": "python",
   "pygments_lexer": "ipython3",
   "version": "3.11.7"
  }
 },
 "nbformat": 4,
 "nbformat_minor": 2
}
